{
 "cells": [
  {
   "cell_type": "code",
   "execution_count": 2,
   "metadata": {},
   "outputs": [],
   "source": [
    "from transformers import pipeline"
   ]
  },
  {
   "cell_type": "code",
   "execution_count": 4,
   "metadata": {},
   "outputs": [],
   "source": [
    "from transformers import AutoTokenizer, AutoModelForTokenClassification\n",
    "\n",
    "tokenizer = AutoTokenizer.from_pretrained(\"pucpr-br/postagger-bio-portuguese\")\n",
    "\n",
    "model = AutoModelForTokenClassification.from_pretrained(\"pucpr-br/postagger-bio-portuguese\")\n",
    "\n",
    "nlp_token_class = pipeline('ner', model=model, tokenizer=tokenizer, grouped_entities=True)\n",
    "\n",
    "\n"
   ]
  },
  {
   "cell_type": "code",
   "execution_count": 9,
   "metadata": {},
   "outputs": [],
   "source": [
    "with open('data/macmorpho-test.txt', 'r') as file:\n",
    "    # store file content in a list\n",
    "    lines = file.readlines()\n",
    "    "
   ]
  },
  {
   "cell_type": "code",
   "execution_count": 15,
   "metadata": {},
   "outputs": [
    {
     "name": "stdout",
     "output_type": "stream",
     "text": [
      "['Salto_N sete_ADJ\\n', 'O_ART grande_ADJ assunto_N da_PREP+ART semana_N em_PREP Nova_NPROP York_NPROP é_V a_ART edição_N da_PREP+ART revista_N \"_PU New_NPROP Yorker_NPROP \"_PU que_PRO-KS está_V nas_PREP+ART bancas_N ._PU\\n', 'Número_N duplo_ADJ especial_ADJ ,_PU é_V inteirinho_ADJ dedicado_PCP a_PREP ensaios_N sobre_PREP moda_N ._PU\\n', 'A_ART endiabrada_PCP editora_N Tina_NPROP Brown_NPROP ex_N da_PREP+ART \"_PU Vanity_NPROP Fair_NPROP -_PU convocou_V até_PDEN John_NPROP Updike_NPROP e_KC Salman_NPROP Rushdie_NPROP para_PREP discorrer_V sobre_PREP o_ART tema_N ._PU\\n']\n"
     ]
    }
   ],
   "source": [
    "print(lines[0:4])"
   ]
  },
  {
   "cell_type": "code",
   "execution_count": 58,
   "metadata": {},
   "outputs": [],
   "source": [
    "# separate the words from the tags\n",
    "words = []\n",
    "tags = []\n",
    "for line in lines:\n",
    "    # separate each word\n",
    "    words_tags = line.split()\n",
    "    for word_tag in words_tags:\n",
    "        # separate the word from the tag\n",
    "        word, tag = word_tag.split('_')\n",
    "        words.append(word)\n",
    "        tags.append(tag.strip())"
   ]
  },
  {
   "cell_type": "code",
   "execution_count": 21,
   "metadata": {},
   "outputs": [
    {
     "name": "stdout",
     "output_type": "stream",
     "text": [
      "['Salto', 'sete', 'O', 'grande']\n",
      "['N', 'ADJ', 'ART', 'ADJ']\n"
     ]
    }
   ],
   "source": [
    "print(words[0:4])\n",
    "print(tags[0:4])"
   ]
  },
  {
   "cell_type": "code",
   "execution_count": 40,
   "metadata": {},
   "outputs": [
    {
     "name": "stderr",
     "output_type": "stream",
     "text": [
      "Processing words: 100%|██████████| 178373/178373 [46:46<00:00, 63.56it/s] \n"
     ]
    }
   ],
   "source": [
    "from tqdm import tqdm\n",
    "\n",
    "total_words = len(words)\n",
    "results = []\n",
    "\n",
    "for word, tag in tqdm(zip(words, tags), total=total_words, desc=\"Processing words\"):\n",
    "    prediction = nlp_token_class(word)\n",
    "    result = {\n",
    "        'word': word,\n",
    "        'tag': tag,\n",
    "        'prediction': prediction[0]['entity_group']\n",
    "    }\n",
    "    if prediction[0]['entity_group'] == tag:\n",
    "        result['correct'] = True\n",
    "    else:\n",
    "        result['correct'] = False\n",
    "    \n",
    "    results.append(result)"
   ]
  },
  {
   "cell_type": "code",
   "execution_count": 15,
   "metadata": {},
   "outputs": [],
   "source": [
    "import json\n"
   ]
  },
  {
   "cell_type": "code",
   "execution_count": 41,
   "metadata": {},
   "outputs": [],
   "source": [
    "# store results in a json file\n",
    "\n",
    "with open('results/results_postagger-bio-portuguese.json', 'w') as file:\n",
    "    json.dump(results, file, indent=4)"
   ]
  },
  {
   "cell_type": "code",
   "execution_count": 43,
   "metadata": {},
   "outputs": [
    {
     "name": "stdout",
     "output_type": "stream",
     "text": [
      "Accuracy: 0.68\n"
     ]
    }
   ],
   "source": [
    "# count correct predictions\n",
    "correct_predictions = 0\n",
    "for result in results:\n",
    "    if result['correct']:\n",
    "        correct_predictions += 1\n",
    "\n",
    "accuracy = correct_predictions / total_words\n",
    "print(f'Acurácia geral: {accuracy:.2f}')"
   ]
  },
  {
   "cell_type": "code",
   "execution_count": 19,
   "metadata": {},
   "outputs": [
    {
     "name": "stdout",
     "output_type": "stream",
     "text": [
      "TAG: PU - ACURÁCIA: 1.00\n",
      "TAG: PREP+PROPESS - ACURÁCIA: 0.98\n",
      "TAG: N - ACURÁCIA: 0.97\n",
      "TAG: KC - ACURÁCIA: 0.96\n",
      "TAG: PROPESS - ACURÁCIA: 0.93\n",
      "TAG: ADV - ACURÁCIA: 0.92\n",
      "TAG: V - ACURÁCIA: 0.92\n",
      "TAG: PROSUB - ACURÁCIA: 0.88\n",
      "TAG: PREP - ACURÁCIA: 0.85\n",
      "TAG: PREP+ADV - ACURÁCIA: 0.84\n",
      "TAG: PCP - ACURÁCIA: 0.82\n",
      "TAG: PREP+ART - ACURÁCIA: 0.75\n",
      "TAG: PDEN - ACURÁCIA: 0.55\n",
      "TAG: ADJ - ACURÁCIA: 0.50\n",
      "TAG: NPROP - ACURÁCIA: 0.48\n",
      "TAG: PREP+PROADJ - ACURÁCIA: 0.47\n",
      "TAG: PREP+PROSUB - ACURÁCIA: 0.41\n",
      "TAG: IN - ACURÁCIA: 0.40\n",
      "TAG: ART - ACURÁCIA: 0.08\n",
      "TAG: PROADJ - ACURÁCIA: 0.05\n",
      "TAG: NUM - ACURÁCIA: 0.04\n",
      "TAG: KS - ACURÁCIA: 0.00\n",
      "TAG: CUR - ACURÁCIA: 0.00\n",
      "TAG: PRO-KS - ACURÁCIA: 0.00\n",
      "TAG: ADV-KS - ACURÁCIA: 0.00\n",
      "TAG: PREP+PRO-KS - ACURÁCIA: 0.00\n"
     ]
    }
   ],
   "source": [
    "# open results and check which TAGS were predicted incorrectly and how many times\n",
    "with open('results/results_postagger-bio-portuguese.json', 'r') as file:\n",
    "    results = json.load(file)\n",
    "\n",
    "# calculate the accuracy for each tag\n",
    "correct_tags = {}\n",
    "total_tags = {}\n",
    "\n",
    "for result in results:\n",
    "    if result['expected_tag'] not in total_tags:\n",
    "        total_tags[result['expected_tag']] = 1\n",
    "    else:\n",
    "        total_tags[result['expected_tag']] += 1\n",
    "    \n",
    "    if result['correct']:\n",
    "        if result['expected_tag'] not in correct_tags:\n",
    "            correct_tags[result['expected_tag']] = 1\n",
    "        else:\n",
    "            correct_tags[result['expected_tag']] += 1\n",
    "\n",
    "accuracy_tags = {}\n",
    "for tag in total_tags:\n",
    "    try:\n",
    "        accuracy_tags[tag] = correct_tags[tag] / total_tags[tag]\n",
    "    except KeyError:\n",
    "        accuracy_tags[tag] = 0\n",
    "\n",
    "# print in descending order\n",
    "for tag, accuracy in sorted(accuracy_tags.items(), key=lambda x: x[1], reverse=True):\n",
    "    print(f'TAG: {tag} - ACURÁCIA: {accuracy:.2f}')"
   ]
  },
  {
   "cell_type": "markdown",
   "metadata": {},
   "source": [
    "## Novo teste outro modelo com fine tunning"
   ]
  },
  {
   "cell_type": "code",
   "execution_count": 2,
   "metadata": {},
   "outputs": [],
   "source": [
    "with open('data/macmorpho-train.txt', 'r') as file:\n",
    "    # store file content in a list\n",
    "    lines = file.readlines()\n",
    "\n",
    "# separate the words from the tags\n",
    "dataT = []\n",
    "# use only 60% of the data\n",
    "for line in lines[0:int(len(lines)*0.5)]:\n",
    "    words_tags = line.split()\n",
    "    for word_tag in words_tags:\n",
    "        word, tag = word_tag.split('_')\n",
    "        dataT.append((word, tag.strip()))\n"
   ]
  },
  {
   "cell_type": "code",
   "execution_count": 3,
   "metadata": {},
   "outputs": [
    {
     "data": {
      "text/plain": [
       "[('Jersei', 'N'),\n",
       " ('atinge', 'V'),\n",
       " ('média', 'N'),\n",
       " ('de', 'PREP'),\n",
       " ('Cr$', 'CUR')]"
      ]
     },
     "execution_count": 3,
     "metadata": {},
     "output_type": "execute_result"
    }
   ],
   "source": [
    "dataT[0:5]"
   ]
  },
  {
   "cell_type": "code",
   "execution_count": 4,
   "metadata": {},
   "outputs": [
    {
     "data": {
      "text/plain": [
       "{'ADJ',\n",
       " 'ADV',\n",
       " 'ADV-KS',\n",
       " 'ART',\n",
       " 'CUR',\n",
       " 'IN',\n",
       " 'KC',\n",
       " 'KS',\n",
       " 'N',\n",
       " 'NPROP',\n",
       " 'NUM',\n",
       " 'PCP',\n",
       " 'PDEN',\n",
       " 'PREP',\n",
       " 'PREP+ADV',\n",
       " 'PREP+ART',\n",
       " 'PREP+PRO-KS',\n",
       " 'PREP+PROADJ',\n",
       " 'PREP+PROPESS',\n",
       " 'PREP+PROSUB',\n",
       " 'PRO-KS',\n",
       " 'PROADJ',\n",
       " 'PROPESS',\n",
       " 'PROSUB',\n",
       " 'PU',\n",
       " 'V'}"
      ]
     },
     "execution_count": 4,
     "metadata": {},
     "output_type": "execute_result"
    }
   ],
   "source": [
    "# get all tags\n",
    "tags = set([tag for _, tag in dataT])\n",
    "tags"
   ]
  },
  {
   "cell_type": "code",
   "execution_count": 19,
   "metadata": {},
   "outputs": [
    {
     "name": "stderr",
     "output_type": "stream",
     "text": [
      "Device set to use cpu\n"
     ]
    }
   ],
   "source": [
    "# Use a pipeline as a high-level helper\n",
    "from transformers import pipeline\n",
    "\n",
    "pipe = pipeline(\"token-classification\", model=\"lisaterumi/postagger-portuguese\", tokenizer=\"lisaterumi/postagger-portuguese\", aggregation_strategy=\"simple\")"
   ]
  },
  {
   "cell_type": "code",
   "execution_count": 36,
   "metadata": {},
   "outputs": [
    {
     "name": "stderr",
     "output_type": "stream",
     "text": [
      "Processing words: 100%|██████████| 387877/387877 [1:34:09<00:00, 68.66it/s]\n"
     ]
    }
   ],
   "source": [
    "from tqdm import tqdm  # Import for the progress bar\n",
    "\n",
    "# Initialize results list to store comparison results\n",
    "results = []\n",
    "\n",
    "# Iterating through the dataset\n",
    "for word, expected_tag in tqdm(dataT, desc=\"Processing words\"):\n",
    "    # Generate the model's prediction for the current word\n",
    "    prediction = pipe(word)\n",
    "    \n",
    "    # Extract the predicted tag\n",
    "    predicted_tag = prediction[0]['entity_group']\n",
    "    \n",
    "    # Store evaluation data\n",
    "    result_data = {\n",
    "        'word': word,\n",
    "        'expected_tag': expected_tag,\n",
    "        'predicted_tag': predicted_tag,\n",
    "        'correct': predicted_tag == expected_tag,\n",
    "    }\n",
    "    \n",
    "    # Append result to the results list\n",
    "    results.append(result_data)\n",
    "        \n",
    "# store results in a json file\n",
    "import json\n",
    "\n",
    "with open('results/results_postagger-portuguese.json', 'w') as file:\n",
    "    json.dump(results, file, indent=4)\n",
    "        "
   ]
  },
  {
   "cell_type": "code",
   "execution_count": 4,
   "metadata": {},
   "outputs": [
    {
     "name": "stdout",
     "output_type": "stream",
     "text": [
      "Accuracy: 0.74\n"
     ]
    }
   ],
   "source": [
    "# count correct predictions\n",
    "import json\n",
    "correct_predictions = 0\n",
    "\n",
    "with open('results/results_postagger-portuguese.json', 'r') as file:\n",
    "    results = json.load(file)\n",
    "\n",
    "total_words = len(results)\n",
    "for result in results:\n",
    "    if result['correct']:\n",
    "        correct_predictions += 1\n",
    "\n",
    "accuracy = correct_predictions / total_words\n",
    "print(f'Acurácia geral: {accuracy:.2f}')"
   ]
  },
  {
   "cell_type": "code",
   "execution_count": 20,
   "metadata": {},
   "outputs": [
    {
     "name": "stdout",
     "output_type": "stream",
     "text": [
      "TAG: PU - ACURÁCIA: 1.00\n",
      "TAG: PREP+PROPESS - ACURÁCIA: 0.98\n",
      "TAG: N - ACURÁCIA: 0.97\n",
      "TAG: KC - ACURÁCIA: 0.96\n",
      "TAG: ADV - ACURÁCIA: 0.92\n",
      "TAG: V - ACURÁCIA: 0.92\n",
      "TAG: PREP+ADV - ACURÁCIA: 0.89\n",
      "TAG: PROSUB - ACURÁCIA: 0.88\n",
      "TAG: PREP - ACURÁCIA: 0.85\n",
      "TAG: PCP - ACURÁCIA: 0.82\n",
      "TAG: PROPESS - ACURÁCIA: 0.79\n",
      "TAG: PREP+ART - ACURÁCIA: 0.75\n",
      "TAG: PDEN - ACURÁCIA: 0.56\n",
      "TAG: ADJ - ACURÁCIA: 0.50\n",
      "TAG: NPROP - ACURÁCIA: 0.49\n",
      "TAG: PREP+PROADJ - ACURÁCIA: 0.47\n",
      "TAG: PREP+PROSUB - ACURÁCIA: 0.41\n",
      "TAG: IN - ACURÁCIA: 0.40\n",
      "TAG: NUM - ACURÁCIA: 0.12\n",
      "TAG: ART - ACURÁCIA: 0.08\n",
      "TAG: PROADJ - ACURÁCIA: 0.05\n",
      "TAG: KS - ACURÁCIA: 0.00\n",
      "TAG: CUR - ACURÁCIA: 0.00\n",
      "TAG: PRO-KS - ACURÁCIA: 0.00\n",
      "TAG: ADV-KS - ACURÁCIA: 0.00\n",
      "TAG: PREP+PRO-KS - ACURÁCIA: 0.00\n"
     ]
    }
   ],
   "source": [
    "with open('results/results_postagger-portuguese.json', 'r') as file:\n",
    "    results = json.load(file)\n",
    "\n",
    "# calculate the accuracy for each tag\n",
    "correct_tags = {}\n",
    "total_tags = {}\n",
    "\n",
    "for result in results:\n",
    "    if result['expected_tag'] not in total_tags:\n",
    "        total_tags[result['expected_tag']] = 1\n",
    "    else:\n",
    "        total_tags[result['expected_tag']] += 1\n",
    "    \n",
    "    if result['correct']:\n",
    "        if result['expected_tag'] not in correct_tags:\n",
    "            correct_tags[result['expected_tag']] = 1\n",
    "        else:\n",
    "            correct_tags[result['expected_tag']] += 1\n",
    "\n",
    "accuracy_tags = {}\n",
    "for tag in total_tags:\n",
    "    try:\n",
    "        accuracy_tags[tag] = correct_tags[tag] / total_tags[tag]\n",
    "    except KeyError:\n",
    "        accuracy_tags[tag] = 0\n",
    "\n",
    "# print in descending order\n",
    "for tag, accuracy in sorted(accuracy_tags.items(), key=lambda x: x[1], reverse=True):\n",
    "    print(f'TAG: {tag} - ACURÁCIA: {accuracy:.2f}')"
   ]
  }
 ],
 "metadata": {
  "kernelspec": {
   "display_name": ".venv",
   "language": "python",
   "name": "python3"
  },
  "language_info": {
   "codemirror_mode": {
    "name": "ipython",
    "version": 3
   },
   "file_extension": ".py",
   "mimetype": "text/x-python",
   "name": "python",
   "nbconvert_exporter": "python",
   "pygments_lexer": "ipython3",
   "version": "3.12.8"
  }
 },
 "nbformat": 4,
 "nbformat_minor": 2
}
