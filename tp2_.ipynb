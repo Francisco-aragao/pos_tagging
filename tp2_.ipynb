{
 "cells": [
  {
   "cell_type": "code",
   "execution_count": 2,
   "metadata": {},
   "outputs": [],
   "source": [
    "from transformers import pipeline"
   ]
  },
  {
   "cell_type": "code",
   "execution_count": 4,
   "metadata": {},
   "outputs": [],
   "source": [
    "from transformers import AutoTokenizer, AutoModelForTokenClassification\n",
    "\n",
    "tokenizer = AutoTokenizer.from_pretrained(\"pucpr-br/postagger-bio-portuguese\")\n",
    "\n",
    "model = AutoModelForTokenClassification.from_pretrained(\"pucpr-br/postagger-bio-portuguese\")\n",
    "\n",
    "nlp_token_class = pipeline('ner', model=model, tokenizer=tokenizer, grouped_entities=True)\n",
    "\n",
    "\n"
   ]
  },
  {
   "cell_type": "code",
   "execution_count": 9,
   "metadata": {},
   "outputs": [],
   "source": [
    "with open('data/macmorpho-test.txt', 'r') as file:\n",
    "    # store file content in a list\n",
    "    lines = file.readlines()\n",
    "    "
   ]
  },
  {
   "cell_type": "code",
   "execution_count": 15,
   "metadata": {},
   "outputs": [
    {
     "name": "stdout",
     "output_type": "stream",
     "text": [
      "['Salto_N sete_ADJ\\n', 'O_ART grande_ADJ assunto_N da_PREP+ART semana_N em_PREP Nova_NPROP York_NPROP é_V a_ART edição_N da_PREP+ART revista_N \"_PU New_NPROP Yorker_NPROP \"_PU que_PRO-KS está_V nas_PREP+ART bancas_N ._PU\\n', 'Número_N duplo_ADJ especial_ADJ ,_PU é_V inteirinho_ADJ dedicado_PCP a_PREP ensaios_N sobre_PREP moda_N ._PU\\n', 'A_ART endiabrada_PCP editora_N Tina_NPROP Brown_NPROP ex_N da_PREP+ART \"_PU Vanity_NPROP Fair_NPROP -_PU convocou_V até_PDEN John_NPROP Updike_NPROP e_KC Salman_NPROP Rushdie_NPROP para_PREP discorrer_V sobre_PREP o_ART tema_N ._PU\\n']\n"
     ]
    }
   ],
   "source": [
    "print(lines[0:4])"
   ]
  },
  {
   "cell_type": "code",
   "execution_count": 58,
   "metadata": {},
   "outputs": [],
   "source": [
    "# separate the words from the tags\n",
    "words = []\n",
    "tags = []\n",
    "for line in lines:\n",
    "    # separate each word\n",
    "    words_tags = line.split()\n",
    "    for word_tag in words_tags:\n",
    "        # separate the word from the tag\n",
    "        word, tag = word_tag.split('_')\n",
    "        words.append(word)\n",
    "        tags.append(tag.strip())"
   ]
  },
  {
   "cell_type": "code",
   "execution_count": 21,
   "metadata": {},
   "outputs": [
    {
     "name": "stdout",
     "output_type": "stream",
     "text": [
      "['Salto', 'sete', 'O', 'grande']\n",
      "['N', 'ADJ', 'ART', 'ADJ']\n"
     ]
    }
   ],
   "source": [
    "print(words[0:4])\n",
    "print(tags[0:4])"
   ]
  },
  {
   "cell_type": "code",
   "execution_count": 40,
   "metadata": {},
   "outputs": [
    {
     "name": "stderr",
     "output_type": "stream",
     "text": [
      "Processing words: 100%|██████████| 178373/178373 [46:46<00:00, 63.56it/s] \n"
     ]
    }
   ],
   "source": [
    "from tqdm import tqdm\n",
    "\n",
    "total_words = len(words)\n",
    "results = []\n",
    "\n",
    "for word, tag in tqdm(zip(words, tags), total=total_words, desc=\"Processing words\"):\n",
    "    prediction = nlp_token_class(word)\n",
    "    result = {\n",
    "        'word': word,\n",
    "        'tag': tag,\n",
    "        'prediction': prediction[0]['entity_group']\n",
    "    }\n",
    "    if prediction[0]['entity_group'] == tag:\n",
    "        result['correct'] = True\n",
    "    else:\n",
    "        result['correct'] = False\n",
    "    \n",
    "    results.append(result)"
   ]
  },
  {
   "cell_type": "code",
   "execution_count": 15,
   "metadata": {},
   "outputs": [],
   "source": [
    "import json\n"
   ]
  },
  {
   "cell_type": "code",
   "execution_count": 41,
   "metadata": {},
   "outputs": [],
   "source": [
    "# store results in a json file\n",
    "\n",
    "with open('results/results_postagger-bio-portuguese.json', 'w') as file:\n",
    "    json.dump(results, file, indent=4)"
   ]
  },
  {
   "cell_type": "code",
   "execution_count": 43,
   "metadata": {},
   "outputs": [
    {
     "name": "stdout",
     "output_type": "stream",
     "text": [
      "Accuracy: 0.68\n"
     ]
    }
   ],
   "source": [
    "# count correct predictions\n",
    "correct_predictions = 0\n",
    "for result in results:\n",
    "    if result['correct']:\n",
    "        correct_predictions += 1\n",
    "\n",
    "accuracy = correct_predictions / total_words\n",
    "print(f'Accuracy: {accuracy:.2f}')"
   ]
  },
  {
   "cell_type": "code",
   "execution_count": 17,
   "metadata": {},
   "outputs": [
    {
     "name": "stdout",
     "output_type": "stream",
     "text": [
      "PREP: 13273\n",
      "ART: 10103\n",
      "NPROP: 8091\n",
      "ADJ: 5540\n",
      "NUM: 2388\n",
      "KS: 2272\n",
      "PRO-KS: 2195\n",
      "V: 2101\n",
      "PROADJ: 1869\n",
      "PROPESS: 1268\n",
      "PU: 1178\n",
      "N: 1177\n",
      "PREP+ART: 1121\n",
      "PCP: 842\n",
      "ADV: 638\n",
      "PROSUB: 584\n",
      "PDEN: 498\n",
      "CUR: 296\n",
      "ADV-KS: 230\n",
      "PREP+PROADJ: 207\n",
      "KC: 173\n",
      "PREP+PROSUB: 88\n",
      "IN: 76\n",
      "PREP+PRO-KS: 58\n",
      "PREP+PROPESS: 12\n",
      "PREP+ADV: 3\n"
     ]
    }
   ],
   "source": [
    "# open results and check which TAGS were predicted incorrectly and how many times\n",
    "with open('results/results_postagger-bio-portuguese.json', 'r') as file:\n",
    "    results = json.load(file)\n",
    "\n",
    "incorrect_tags = {}\n",
    "for result in results:\n",
    "    if not result['correct']:\n",
    "        if result['tag'] not in incorrect_tags:\n",
    "            incorrect_tags[result['tag']] = 1\n",
    "        else:\n",
    "            incorrect_tags[result['tag']] += 1\n",
    "\n",
    "# print in descending order\n",
    "for tag, count in sorted(incorrect_tags.items(), key=lambda x: x[1], reverse=True):\n",
    "    print(f'{tag}: {count}')"
   ]
  },
  {
   "cell_type": "markdown",
   "metadata": {},
   "source": [
    "## Novo teste modelo com zero shot"
   ]
  },
  {
   "cell_type": "code",
   "execution_count": 2,
   "metadata": {},
   "outputs": [],
   "source": [
    "with open('data/macmorpho-train.txt', 'r') as file:\n",
    "    # store file content in a list\n",
    "    lines = file.readlines()\n",
    "\n",
    "# separate the words from the tags\n",
    "dataT = []\n",
    "# use only 60% of the data\n",
    "for line in lines[0:int(len(lines)*0.5)]:\n",
    "    words_tags = line.split()\n",
    "    for word_tag in words_tags:\n",
    "        word, tag = word_tag.split('_')\n",
    "        dataT.append((word, tag.strip()))\n"
   ]
  },
  {
   "cell_type": "code",
   "execution_count": 3,
   "metadata": {},
   "outputs": [
    {
     "data": {
      "text/plain": [
       "[('Jersei', 'N'),\n",
       " ('atinge', 'V'),\n",
       " ('média', 'N'),\n",
       " ('de', 'PREP'),\n",
       " ('Cr$', 'CUR')]"
      ]
     },
     "execution_count": 3,
     "metadata": {},
     "output_type": "execute_result"
    }
   ],
   "source": [
    "dataT[0:5]"
   ]
  },
  {
   "cell_type": "code",
   "execution_count": 4,
   "metadata": {},
   "outputs": [
    {
     "data": {
      "text/plain": [
       "{'ADJ',\n",
       " 'ADV',\n",
       " 'ADV-KS',\n",
       " 'ART',\n",
       " 'CUR',\n",
       " 'IN',\n",
       " 'KC',\n",
       " 'KS',\n",
       " 'N',\n",
       " 'NPROP',\n",
       " 'NUM',\n",
       " 'PCP',\n",
       " 'PDEN',\n",
       " 'PREP',\n",
       " 'PREP+ADV',\n",
       " 'PREP+ART',\n",
       " 'PREP+PRO-KS',\n",
       " 'PREP+PROADJ',\n",
       " 'PREP+PROPESS',\n",
       " 'PREP+PROSUB',\n",
       " 'PRO-KS',\n",
       " 'PROADJ',\n",
       " 'PROPESS',\n",
       " 'PROSUB',\n",
       " 'PU',\n",
       " 'V'}"
      ]
     },
     "execution_count": 4,
     "metadata": {},
     "output_type": "execute_result"
    }
   ],
   "source": [
    "# get all tags\n",
    "tags = set([tag for _, tag in dataT])\n",
    "tags"
   ]
  },
  {
   "cell_type": "code",
   "execution_count": 19,
   "metadata": {},
   "outputs": [
    {
     "name": "stderr",
     "output_type": "stream",
     "text": [
      "Device set to use cpu\n"
     ]
    }
   ],
   "source": [
    "# Use a pipeline as a high-level helper\n",
    "from transformers import pipeline\n",
    "\n",
    "pipe = pipeline(\"token-classification\", model=\"lisaterumi/postagger-portuguese\", tokenizer=\"lisaterumi/postagger-portuguese\", aggregation_strategy=\"simple\")"
   ]
  },
  {
   "cell_type": "code",
   "execution_count": 36,
   "metadata": {},
   "outputs": [
    {
     "name": "stderr",
     "output_type": "stream",
     "text": [
      "Processing words: 100%|██████████| 387877/387877 [1:34:09<00:00, 68.66it/s]\n"
     ]
    }
   ],
   "source": [
    "from tqdm import tqdm  # Import for the progress bar\n",
    "\n",
    "# Initialize results list to store comparison results\n",
    "results = []\n",
    "\n",
    "# Iterating through the dataset\n",
    "for word, expected_tag in tqdm(dataT, desc=\"Processing words\"):\n",
    "    # Generate the model's prediction for the current word\n",
    "    prediction = pipe(word)\n",
    "    \n",
    "    # Extract the predicted tag\n",
    "    predicted_tag = prediction[0]['entity_group']\n",
    "    \n",
    "    # Store evaluation data\n",
    "    result_data = {\n",
    "        'word': word,\n",
    "        'expected_tag': expected_tag,\n",
    "        'predicted_tag': predicted_tag,\n",
    "        'correct': predicted_tag == expected_tag,\n",
    "    }\n",
    "    \n",
    "    # Append result to the results list\n",
    "    results.append(result_data)\n",
    "        \n",
    "# store results in a json file\n",
    "import json\n",
    "\n",
    "with open('results/results_postagger-portuguese.json', 'w') as file:\n",
    "    json.dump(results, file, indent=4)\n",
    "        "
   ]
  },
  {
   "cell_type": "code",
   "execution_count": 4,
   "metadata": {},
   "outputs": [
    {
     "name": "stdout",
     "output_type": "stream",
     "text": [
      "Accuracy: 0.74\n"
     ]
    }
   ],
   "source": [
    "# count correct predictions\n",
    "import json\n",
    "correct_predictions = 0\n",
    "\n",
    "with open('results/results_postagger-portuguese.json', 'r') as file:\n",
    "    results = json.load(file)\n",
    "\n",
    "total_words = len(results)\n",
    "for result in results:\n",
    "    if result['correct']:\n",
    "        correct_predictions += 1\n",
    "\n",
    "accuracy = correct_predictions / total_words\n",
    "print(f'Accuracy: {accuracy:.2f}')"
   ]
  },
  {
   "cell_type": "code",
   "execution_count": 19,
   "metadata": {},
   "outputs": [
    {
     "name": "stdout",
     "output_type": "stream",
     "text": [
      "ART: 26804\n",
      "NPROP: 19359\n",
      "ADJ: 8135\n",
      "NUM: 7420\n",
      "PREP+ART: 6311\n",
      "PREP: 5806\n",
      "PROADJ: 4934\n",
      "KS: 4699\n",
      "PRO-KS: 3961\n",
      "V: 3192\n",
      "N: 2356\n",
      "PCP: 1556\n",
      "CUR: 1485\n",
      "PDEN: 936\n",
      "PROPESS: 707\n",
      "ADV: 621\n",
      "ADV-KS: 354\n",
      "KC: 349\n",
      "PREP+PROADJ: 345\n",
      "PROSUB: 231\n",
      "PREP+PROSUB: 127\n",
      "PREP+PRO-KS: 66\n",
      "IN: 12\n",
      "PREP+PROPESS: 3\n",
      "PREP+ADV: 2\n"
     ]
    }
   ],
   "source": [
    "with open('results/results_postagger-portuguese.json', 'r') as file:\n",
    "    results = json.load(file)\n",
    "\n",
    "incorrect_tags = {}\n",
    "for result in results:\n",
    "    if not result['correct']:\n",
    "        if result['expected_tag'] not in incorrect_tags:\n",
    "            incorrect_tags[result['expected_tag']] = 1\n",
    "        else:\n",
    "            incorrect_tags[result['expected_tag']] += 1\n",
    "\n",
    "# print in descending order\n",
    "for tag, count in sorted(incorrect_tags.items(), key=lambda x: x[1], reverse=True):\n",
    "    print(f'{tag}: {count}')"
   ]
  },
  {
   "cell_type": "markdown",
   "metadata": {},
   "source": [
    "######################################\n"
   ]
  },
  {
   "cell_type": "code",
   "execution_count": 3,
   "metadata": {},
   "outputs": [],
   "source": [
    "with open('data/macmorpho-train.txt', 'r') as file:\n",
    "    # store file content in a list\n",
    "    lines = file.readlines()\n",
    "\n",
    "# separate the words from the tags\n",
    "dataT = []\n",
    "# use only 60% of the data\n",
    "for line in lines[0:int(len(lines)*0.5)]:\n",
    "    words_tags = line.split()\n",
    "    for word_tag in words_tags:\n",
    "        word, tag = word_tag.split('_')\n",
    "        dataT.append((word, tag.strip()))"
   ]
  },
  {
   "cell_type": "code",
   "execution_count": 4,
   "metadata": {},
   "outputs": [],
   "source": [
    "with open('data/macmorpho-dev.txt', 'r') as file:\n",
    "    # store file content in a list\n",
    "    lines = file.readlines()\n",
    "\n",
    "# separate the words from the tags\n",
    "dataD = []\n",
    "for line in lines[0:int(len(lines)*0.6)]:\n",
    "    words_tags = line.split()\n",
    "    for word_tag in words_tags:\n",
    "        word, tag = word_tag.split('_')\n",
    "        dataD.append((word, tag.strip()))\n"
   ]
  },
  {
   "cell_type": "code",
   "execution_count": 5,
   "metadata": {},
   "outputs": [],
   "source": [
    "with open('data/macmorpho-test.txt', 'r') as file:\n",
    "    # store file content in a list\n",
    "    lines = file.readlines()\n",
    "\n",
    "\n",
    "dataTest = []\n",
    "for line in lines[0:int(len(lines)*0.5)]:\n",
    "    words_tags = line.split()\n",
    "    for word_tag in words_tags:\n",
    "        word, tag = word_tag.split('_')\n",
    "        dataTest.append((word, tag.strip()))\n",
    "\n",
    "def get_label_list(data):\n",
    "  \"\"\"\n",
    "  Extracts a list of unique labels (tags) from a list of (word, tag) tuples.\n",
    "\n",
    "  Args:\n",
    "    data: A list of tuples, where each tuple represents a word and its corresponding tag.\n",
    "\n",
    "  Returns:\n",
    "    A sorted list of unique labels.\n",
    "  \"\"\"\n",
    "  label_set = set()\n",
    "  for _, tag in data:\n",
    "    label_set.add(tag)\n",
    "  return sorted(list(label_set))\n",
    "\n",
    "# Get the label list from the dataTest\n",
    "label_list = get_label_list(dataTest) "
   ]
  }
 ],
 "metadata": {
  "kernelspec": {
   "display_name": "env_py",
   "language": "python",
   "name": "python3"
  },
  "language_info": {
   "codemirror_mode": {
    "name": "ipython",
    "version": 3
   },
   "file_extension": ".py",
   "mimetype": "text/x-python",
   "name": "python",
   "nbconvert_exporter": "python",
   "pygments_lexer": "ipython3",
   "version": "3.12.8"
  }
 },
 "nbformat": 4,
 "nbformat_minor": 2
}
