{
 "cells": [
  {
   "cell_type": "code",
   "execution_count": 3,
   "metadata": {},
   "outputs": [],
   "source": [
    "from transformers import pipeline"
   ]
  },
  {
   "cell_type": "code",
   "execution_count": 4,
   "metadata": {},
   "outputs": [],
   "source": [
    "from transformers import AutoTokenizer, AutoModelForTokenClassification\n",
    "\n",
    "tokenizer = AutoTokenizer.from_pretrained(\"pucpr-br/postagger-bio-portuguese\")\n",
    "\n",
    "model = AutoModelForTokenClassification.from_pretrained(\"pucpr-br/postagger-bio-portuguese\")\n",
    "\n",
    "nlp_token_class = pipeline('ner', model=model, tokenizer=tokenizer, grouped_entities=True)\n",
    "\n",
    "\n"
   ]
  },
  {
   "cell_type": "code",
   "execution_count": 9,
   "metadata": {},
   "outputs": [],
   "source": [
    "with open('data/macmorpho-test.txt', 'r') as file:\n",
    "    # store file content in a list\n",
    "    lines = file.readlines()\n",
    "    "
   ]
  },
  {
   "cell_type": "code",
   "execution_count": 15,
   "metadata": {},
   "outputs": [
    {
     "name": "stdout",
     "output_type": "stream",
     "text": [
      "['Salto_N sete_ADJ\\n', 'O_ART grande_ADJ assunto_N da_PREP+ART semana_N em_PREP Nova_NPROP York_NPROP é_V a_ART edição_N da_PREP+ART revista_N \"_PU New_NPROP Yorker_NPROP \"_PU que_PRO-KS está_V nas_PREP+ART bancas_N ._PU\\n', 'Número_N duplo_ADJ especial_ADJ ,_PU é_V inteirinho_ADJ dedicado_PCP a_PREP ensaios_N sobre_PREP moda_N ._PU\\n', 'A_ART endiabrada_PCP editora_N Tina_NPROP Brown_NPROP ex_N da_PREP+ART \"_PU Vanity_NPROP Fair_NPROP -_PU convocou_V até_PDEN John_NPROP Updike_NPROP e_KC Salman_NPROP Rushdie_NPROP para_PREP discorrer_V sobre_PREP o_ART tema_N ._PU\\n']\n"
     ]
    }
   ],
   "source": [
    "print(lines[0:4])"
   ]
  },
  {
   "cell_type": "code",
   "execution_count": 19,
   "metadata": {},
   "outputs": [],
   "source": [
    "# separate the words from the tags\n",
    "words = []\n",
    "tags = []\n",
    "for line in lines:\n",
    "    # separate each word\n",
    "    words_tags = line.split()\n",
    "    for word_tag in words_tags:\n",
    "        # separate the word from the tag\n",
    "        word, tag = word_tag.split('_')\n",
    "        words.append(word)\n",
    "        tags.append(tag.strip())"
   ]
  },
  {
   "cell_type": "code",
   "execution_count": 21,
   "metadata": {},
   "outputs": [
    {
     "name": "stdout",
     "output_type": "stream",
     "text": [
      "['Salto', 'sete', 'O', 'grande']\n",
      "['N', 'ADJ', 'ART', 'ADJ']\n"
     ]
    }
   ],
   "source": [
    "print(words[0:4])\n",
    "print(tags[0:4])"
   ]
  },
  {
   "cell_type": "code",
   "execution_count": 40,
   "metadata": {},
   "outputs": [
    {
     "name": "stderr",
     "output_type": "stream",
     "text": [
      "Processing words: 100%|██████████| 178373/178373 [46:46<00:00, 63.56it/s] \n"
     ]
    }
   ],
   "source": [
    "from tqdm import tqdm\n",
    "\n",
    "total_words = len(words)\n",
    "results = []\n",
    "\n",
    "for word, tag in tqdm(zip(words, tags), total=total_words, desc=\"Processing words\"):\n",
    "    prediction = nlp_token_class(word)\n",
    "    result = {\n",
    "        'word': word,\n",
    "        'tag': tag,\n",
    "        'prediction': prediction[0]['entity_group']\n",
    "    }\n",
    "    if prediction[0]['entity_group'] == tag:\n",
    "        result['correct'] = True\n",
    "    else:\n",
    "        result['correct'] = False\n",
    "    \n",
    "    results.append(result)"
   ]
  },
  {
   "cell_type": "code",
   "execution_count": 41,
   "metadata": {},
   "outputs": [],
   "source": [
    "# store results in a json file\n",
    "import json\n",
    "\n",
    "with open('results/results_postagger-bio-portuguese.json', 'w') as file:\n",
    "    json.dump(results, file, indent=4)"
   ]
  },
  {
   "cell_type": "code",
   "execution_count": 43,
   "metadata": {},
   "outputs": [
    {
     "name": "stdout",
     "output_type": "stream",
     "text": [
      "Accuracy: 0.68\n"
     ]
    }
   ],
   "source": [
    "# count correct predictions\n",
    "correct_predictions = 0\n",
    "for result in results:\n",
    "    if result['correct']:\n",
    "        correct_predictions += 1\n",
    "\n",
    "accuracy = correct_predictions / total_words\n",
    "print(f'Accuracy: {accuracy:.2f}')"
   ]
  },
  {
   "cell_type": "code",
   "execution_count": 65,
   "metadata": {},
   "outputs": [
    {
     "name": "stderr",
     "output_type": "stream",
     "text": [
      "Device set to use cpu\n",
      "/home/francisco/Documents/Francisco/Faculdade/7_Semestre/processamento_lingua_natural/tp2/pos_tagging/env_py/lib/python3.12/site-packages/transformers/pipelines/token_classification.py:170: UserWarning: `grouped_entities` is deprecated and will be removed in version v5.0.0, defaulted to `aggregation_strategy=\"AggregationStrategy.SIMPLE\"` instead.\n",
      "  warnings.warn(\n"
     ]
    }
   ],
   "source": [
    "from transformers import AutoTokenizer, AutoModelForTokenClassification\n",
    "\n",
    "tokenizer = AutoTokenizer.from_pretrained(\"lfcc/bert-portuguese-ner\")\n",
    "model = AutoModelForTokenClassification.from_pretrained(\"lfcc/bert-portuguese-ner\")\n",
    "\n",
    "nlp_token_class = pipeline(\"token-classification\", model=model, tokenizer=tokenizer, grouped_entities=True)"
   ]
  },
  {
   "cell_type": "code",
   "execution_count": 61,
   "metadata": {},
   "outputs": [],
   "source": [
    "with open('data/macmorpho-test.txt', 'r') as file:\n",
    "    # store file content in a list\n",
    "    lines = file.readlines()\n",
    "    "
   ]
  },
  {
   "cell_type": "code",
   "execution_count": 51,
   "metadata": {},
   "outputs": [],
   "source": [
    "# separate the words from the tags\n",
    "words = []\n",
    "tags = []\n",
    "for line in lines:\n",
    "    # separate each word\n",
    "    words_tags = line.split()\n",
    "    for word_tag in words_tags:\n",
    "        # separate the word from the tag\n",
    "        word, tag = word_tag.split('_')\n",
    "        words.append(word)\n",
    "        tags.append(tag.strip())"
   ]
  },
  {
   "cell_type": "code",
   "execution_count": 64,
   "metadata": {},
   "outputs": [
    {
     "name": "stderr",
     "output_type": "stream",
     "text": [
      "Processing words:   0%|          | 0/178373 [00:00<?, ?it/s]Asking to truncate to max_length but no maximum length is provided and the model has no predefined maximum length. Default to no truncation.\n"
     ]
    },
    {
     "name": "stdout",
     "output_type": "stream",
     "text": [
      "Salto\n"
     ]
    },
    {
     "name": "stderr",
     "output_type": "stream",
     "text": [
      "Processing words:   0%|          | 0/178373 [00:01<?, ?it/s]"
     ]
    },
    {
     "name": "stdout",
     "output_type": "stream",
     "text": [
      "[{'entity': 'N', 'score': np.float32(0.99910456), 'index': 1, 'word': 'Sal', 'start': 0, 'end': 3}, {'entity': 'N', 'score': np.float32(0.99920374), 'index': 2, 'word': '##to', 'start': 3, 'end': 5}]\n"
     ]
    },
    {
     "name": "stderr",
     "output_type": "stream",
     "text": [
      "\n"
     ]
    },
    {
     "ename": "KeyError",
     "evalue": "'entity_group'",
     "output_type": "error",
     "traceback": [
      "\u001b[0;31m---------------------------------------------------------------------------\u001b[0m",
      "\u001b[0;31mKeyError\u001b[0m                                  Traceback (most recent call last)",
      "Cell \u001b[0;32mIn[64], line 14\u001b[0m\n\u001b[1;32m      9\u001b[0m \u001b[38;5;28mprint\u001b[39m(nlp_token_class(word))\n\u001b[1;32m     10\u001b[0m prediction \u001b[38;5;241m=\u001b[39m nlp_token_class(word)\n\u001b[1;32m     11\u001b[0m result \u001b[38;5;241m=\u001b[39m {\n\u001b[1;32m     12\u001b[0m     \u001b[38;5;124m'\u001b[39m\u001b[38;5;124mword\u001b[39m\u001b[38;5;124m'\u001b[39m: word,\n\u001b[1;32m     13\u001b[0m     \u001b[38;5;124m'\u001b[39m\u001b[38;5;124mtag\u001b[39m\u001b[38;5;124m'\u001b[39m: tag,\n\u001b[0;32m---> 14\u001b[0m     \u001b[38;5;124m'\u001b[39m\u001b[38;5;124mprediction\u001b[39m\u001b[38;5;124m'\u001b[39m: \u001b[43mprediction\u001b[49m\u001b[43m[\u001b[49m\u001b[38;5;241;43m0\u001b[39;49m\u001b[43m]\u001b[49m\u001b[43m[\u001b[49m\u001b[38;5;124;43m'\u001b[39;49m\u001b[38;5;124;43mentity_group\u001b[39;49m\u001b[38;5;124;43m'\u001b[39;49m\u001b[43m]\u001b[49m\n\u001b[1;32m     15\u001b[0m }\n\u001b[1;32m     16\u001b[0m \u001b[38;5;28;01mif\u001b[39;00m prediction[\u001b[38;5;241m0\u001b[39m][\u001b[38;5;124m'\u001b[39m\u001b[38;5;124mentity_group\u001b[39m\u001b[38;5;124m'\u001b[39m] \u001b[38;5;241m==\u001b[39m tag:\n\u001b[1;32m     17\u001b[0m     result[\u001b[38;5;124m'\u001b[39m\u001b[38;5;124mcorrect\u001b[39m\u001b[38;5;124m'\u001b[39m] \u001b[38;5;241m=\u001b[39m \u001b[38;5;28;01mTrue\u001b[39;00m\n",
      "\u001b[0;31mKeyError\u001b[0m: 'entity_group'"
     ]
    }
   ],
   "source": [
    "from tqdm import tqdm\n",
    "\n",
    "total_words = len(words)\n",
    "results = []\n",
    "\n",
    "for word, tag in tqdm(zip(words, tags), total=total_words, desc=\"Processing words\"):\n",
    "\n",
    "    print(word)\n",
    "    print(nlp_token_class(word))\n",
    "    prediction = nlp_token_class(word)\n",
    "    result = {\n",
    "        'word': word,\n",
    "        'tag': tag,\n",
    "        'prediction': prediction[0]['entity_group']\n",
    "    }\n",
    "    if prediction[0]['entity_group'] == tag:\n",
    "        result['correct'] = True\n",
    "    else:\n",
    "        result['correct'] = False\n",
    "    \n",
    "    results.append(result)"
   ]
  },
  {
   "cell_type": "code",
   "execution_count": null,
   "metadata": {},
   "outputs": [],
   "source": [
    "# store results in a json file\n",
    "import json\n",
    "\n",
    "with open('results/results_postagger-portuguese.json', 'w') as file:\n",
    "    json.dump(results, file, indent=4)"
   ]
  }
 ],
 "metadata": {
  "kernelspec": {
   "display_name": "env_py",
   "language": "python",
   "name": "python3"
  },
  "language_info": {
   "codemirror_mode": {
    "name": "ipython",
    "version": 3
   },
   "file_extension": ".py",
   "mimetype": "text/x-python",
   "name": "python",
   "nbconvert_exporter": "python",
   "pygments_lexer": "ipython3",
   "version": "3.12.8"
  }
 },
 "nbformat": 4,
 "nbformat_minor": 2
}
