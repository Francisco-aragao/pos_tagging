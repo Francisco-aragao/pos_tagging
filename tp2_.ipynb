{
 "cells": [
  {
   "cell_type": "markdown",
   "metadata": {},
   "source": [
    "# Francisco Teixeira Rocha Aragão 2021031726\n",
    "\n",
    "Nesse arquivo contem a implementação da solução para um problema de 'pos tagging', que é a tarefa de atribuir uma tag a cada palavra de uma sentença, em que no caso deste trabalho, envolve a atribuição de tags de classes gramáticais para frases em português.\n",
    "\n",
    "Os dados utilizados são do corpus MacMorpho, que contém textos em português com as respectivas tags de classes gramaticais. O corpus já está dividido em 3 partes: treino, validação e teste. É possível baixar o corpus no [link referenciado](http://nilc.icmc.usp.br/macmorpho/macmorpho-v3.tgz)\n",
    "\n",
    "Desse modo, o trabalho desenvolvido envolve a utilização de modelos para realizar a tarefa de pos tagging, com o desempenho sendo medido e retornando em cada caso testado. Vale destacar inicialmente que algumas estratégias foram testadas, porém não foram bem sucessidas, como o treinamento de muitas camadas do modelo BERT em português, ou a utilização de LLMs para a tarefa de pos tagging. A falta de sucesso deve-se a necessidade de maior poder de processamento, GPU e de memória para trabalhar com tarefas tão complexas e modelos tão grandes, o que não foi possível de ser feito localmente.\n",
    "\n",
    "Com isso, a estratégia adotada foi de utilizar modelos já especializados na tarefa de pós taggins (fine tuning). Assim, os modelos escolhidos foram treinandos utilizando o próprio dataset MacMorpho, além de terem como base modelos BERT treinados em língua portuguesa. Fazer o uso desses modelos foi de grande ajuda pois não foi necessário o treinamento, apenas carregar em memória e utilizar.\n",
    "\n",
    "Os resultados da utilização dos modelos estão descritos abaixo."
   ]
  },
  {
   "cell_type": "code",
   "execution_count": 1,
   "metadata": {},
   "outputs": [
    {
     "name": "stderr",
     "output_type": "stream",
     "text": [
      "/home/francisco/Documents/Francisco/Faculdade/7_Semestre/processamento_lingua_natural/tp2/pos_tagging/env_py/lib/python3.12/site-packages/tqdm/auto.py:21: TqdmWarning: IProgress not found. Please update jupyter and ipywidgets. See https://ipywidgets.readthedocs.io/en/stable/user_install.html\n",
      "  from .autonotebook import tqdm as notebook_tqdm\n"
     ]
    }
   ],
   "source": [
    "from tqdm import tqdm\n",
    "from transformers import AutoTokenizer, AutoModelForTokenClassification, pipeline\n",
    "import json\n",
    "import os\n"
   ]
  },
  {
   "cell_type": "code",
   "execution_count": 2,
   "metadata": {},
   "outputs": [
    {
     "name": "stderr",
     "output_type": "stream",
     "text": [
      "Device set to use cpu\n",
      "/home/francisco/Documents/Francisco/Faculdade/7_Semestre/processamento_lingua_natural/tp2/pos_tagging/env_py/lib/python3.12/site-packages/transformers/pipelines/token_classification.py:170: UserWarning: `grouped_entities` is deprecated and will be removed in version v5.0.0, defaulted to `aggregation_strategy=\"AggregationStrategy.SIMPLE\"` instead.\n",
      "  warnings.warn(\n"
     ]
    }
   ],
   "source": [
    "\n",
    "tokenizer = AutoTokenizer.from_pretrained(\"pucpr-br/postagger-bio-portuguese\")\n",
    "\n",
    "model = AutoModelForTokenClassification.from_pretrained(\"pucpr-br/postagger-bio-portuguese\")\n",
    "\n",
    "nlp_token_class = pipeline('ner', model=model, tokenizer=tokenizer, grouped_entities=True)\n",
    "\n",
    "\n"
   ]
  },
  {
   "cell_type": "code",
   "execution_count": 3,
   "metadata": {},
   "outputs": [],
   "source": [
    "with open('data/macmorpho-train.txt', 'r') as file:\n",
    "    # store file content in a list\n",
    "    lines = file.readlines()\n",
    "    "
   ]
  },
  {
   "cell_type": "code",
   "execution_count": 15,
   "metadata": {},
   "outputs": [
    {
     "name": "stdout",
     "output_type": "stream",
     "text": [
      "['Salto_N sete_ADJ\\n', 'O_ART grande_ADJ assunto_N da_PREP+ART semana_N em_PREP Nova_NPROP York_NPROP é_V a_ART edição_N da_PREP+ART revista_N \"_PU New_NPROP Yorker_NPROP \"_PU que_PRO-KS está_V nas_PREP+ART bancas_N ._PU\\n', 'Número_N duplo_ADJ especial_ADJ ,_PU é_V inteirinho_ADJ dedicado_PCP a_PREP ensaios_N sobre_PREP moda_N ._PU\\n', 'A_ART endiabrada_PCP editora_N Tina_NPROP Brown_NPROP ex_N da_PREP+ART \"_PU Vanity_NPROP Fair_NPROP -_PU convocou_V até_PDEN John_NPROP Updike_NPROP e_KC Salman_NPROP Rushdie_NPROP para_PREP discorrer_V sobre_PREP o_ART tema_N ._PU\\n']\n"
     ]
    }
   ],
   "source": [
    "print(lines[0:4])"
   ]
  },
  {
   "cell_type": "code",
   "execution_count": 4,
   "metadata": {},
   "outputs": [],
   "source": [
    "# organizando os dados, separando as palavras das tags\n",
    "words = []\n",
    "tags = []\n",
    "for line in lines:\n",
    "    # separate each word\n",
    "    words_tags = line.split()\n",
    "    for word_tag in words_tags:\n",
    "        # separate the word from the tag\n",
    "        word, tag = word_tag.split('_')\n",
    "        words.append(word)\n",
    "        tags.append(tag.strip())"
   ]
  },
  {
   "cell_type": "code",
   "execution_count": 21,
   "metadata": {},
   "outputs": [
    {
     "name": "stdout",
     "output_type": "stream",
     "text": [
      "['Salto', 'sete', 'O', 'grande']\n",
      "['N', 'ADJ', 'ART', 'ADJ']\n"
     ]
    }
   ],
   "source": [
    "print(words[0:4])\n",
    "print(tags[0:4])"
   ]
  },
  {
   "cell_type": "code",
   "execution_count": 40,
   "metadata": {},
   "outputs": [
    {
     "name": "stderr",
     "output_type": "stream",
     "text": [
      "Processing words:   3%|▎         | 23144/728497 [06:21<3:29:27, 56.12it/s]"
     ]
    }
   ],
   "source": [
    "\n",
    "\n",
    "# realizando a inferência das tags\n",
    "total_words = len(words)\n",
    "results = []\n",
    "\n",
    "for word, tag in tqdm(zip(words, tags), total=total_words, desc=\"Processing words\"):\n",
    "    prediction = nlp_token_class(word)\n",
    "    result = {\n",
    "        'word': word,\n",
    "        'tag': tag,\n",
    "        'prediction': prediction[0]['entity_group']\n",
    "    }\n",
    "    if prediction[0]['entity_group'] == tag:\n",
    "        result['correct'] = True\n",
    "    else:\n",
    "        result['correct'] = False\n",
    "    \n",
    "    results.append(result)"
   ]
  },
  {
   "cell_type": "code",
   "execution_count": 41,
   "metadata": {},
   "outputs": [],
   "source": [
    "# salvando resultados em um arquivo para análise posterior\n",
    "\n",
    "with open('results/results_postagger-bio-portuguese.json', 'w') as file:\n",
    "    json.dump(results, file, indent=4)"
   ]
  },
  {
   "cell_type": "code",
   "execution_count": null,
   "metadata": {},
   "outputs": [],
   "source": [
    "# abrino o arquivo gerado\n",
    "with open('results/results_postagger-bio-portuguese.json', 'r') as file:\n",
    "    results = json.load(file)"
   ]
  },
  {
   "cell_type": "code",
   "execution_count": 43,
   "metadata": {},
   "outputs": [
    {
     "name": "stdout",
     "output_type": "stream",
     "text": [
      "Accuracy: 0.68\n"
     ]
    }
   ],
   "source": [
    "# calculando acurácia do modelo\n",
    "correct_predictions = 0\n",
    "for result in results:\n",
    "    if result['correct']:\n",
    "        correct_predictions += 1\n",
    "\n",
    "accuracy = correct_predictions / total_words\n",
    "print(f'Acurácia geral: {accuracy:.2f}')"
   ]
  },
  {
   "cell_type": "code",
   "execution_count": 19,
   "metadata": {},
   "outputs": [
    {
     "name": "stdout",
     "output_type": "stream",
     "text": [
      "TAG: PU - ACURÁCIA: 1.00\n",
      "TAG: PREP+PROPESS - ACURÁCIA: 0.98\n",
      "TAG: N - ACURÁCIA: 0.97\n",
      "TAG: KC - ACURÁCIA: 0.96\n",
      "TAG: PROPESS - ACURÁCIA: 0.93\n",
      "TAG: ADV - ACURÁCIA: 0.92\n",
      "TAG: V - ACURÁCIA: 0.92\n",
      "TAG: PROSUB - ACURÁCIA: 0.88\n",
      "TAG: PREP - ACURÁCIA: 0.85\n",
      "TAG: PREP+ADV - ACURÁCIA: 0.84\n",
      "TAG: PCP - ACURÁCIA: 0.82\n",
      "TAG: PREP+ART - ACURÁCIA: 0.75\n",
      "TAG: PDEN - ACURÁCIA: 0.55\n",
      "TAG: ADJ - ACURÁCIA: 0.50\n",
      "TAG: NPROP - ACURÁCIA: 0.48\n",
      "TAG: PREP+PROADJ - ACURÁCIA: 0.47\n",
      "TAG: PREP+PROSUB - ACURÁCIA: 0.41\n",
      "TAG: IN - ACURÁCIA: 0.40\n",
      "TAG: ART - ACURÁCIA: 0.08\n",
      "TAG: PROADJ - ACURÁCIA: 0.05\n",
      "TAG: NUM - ACURÁCIA: 0.04\n",
      "TAG: KS - ACURÁCIA: 0.00\n",
      "TAG: CUR - ACURÁCIA: 0.00\n",
      "TAG: PRO-KS - ACURÁCIA: 0.00\n",
      "TAG: ADV-KS - ACURÁCIA: 0.00\n",
      "TAG: PREP+PRO-KS - ACURÁCIA: 0.00\n"
     ]
    }
   ],
   "source": [
    "# observando resultados mais detalhados\n",
    "\n",
    "# agora é calculado a acurácia para cada tag\n",
    "correct_tags = {}\n",
    "total_tags = {}\n",
    "\n",
    "for result in results:\n",
    "    if result['expected_tag'] not in total_tags:\n",
    "        total_tags[result['expected_tag']] = 1\n",
    "    else:\n",
    "        total_tags[result['expected_tag']] += 1\n",
    "    \n",
    "    if result['correct']:\n",
    "        if result['expected_tag'] not in correct_tags:\n",
    "            correct_tags[result['expected_tag']] = 1\n",
    "        else:\n",
    "            correct_tags[result['expected_tag']] += 1\n",
    "\n",
    "accuracy_tags = {}\n",
    "for tag in total_tags:\n",
    "    try:\n",
    "        accuracy_tags[tag] = correct_tags[tag] / total_tags[tag]\n",
    "    except KeyError:\n",
    "        accuracy_tags[tag] = 0\n",
    "\n",
    "# print in descending order\n",
    "for tag, accuracy in sorted(accuracy_tags.items(), key=lambda x: x[1], reverse=True):\n",
    "    print(f'TAG: {tag} - ACURÁCIA: {accuracy:.2f}')"
   ]
  },
  {
   "cell_type": "code",
   "execution_count": null,
   "metadata": {},
   "outputs": [],
   "source": [
    "# imprimindo o número de ocorrências de cada tag\n",
    "for tag, total in total_tags.items():\n",
    "    print(f'TAG: {tag} - OCORRÊNCIAS: {total}')"
   ]
  },
  {
   "cell_type": "markdown",
   "metadata": {},
   "source": [
    "## Novo teste outro modelo com fine tunning"
   ]
  },
  {
   "cell_type": "code",
   "execution_count": 21,
   "metadata": {},
   "outputs": [
    {
     "name": "stderr",
     "output_type": "stream",
     "text": [
      "Exception ignored in: <function _ConnectionBase.__del__ at 0x7fdec6172660>\n",
      "Traceback (most recent call last):\n",
      "  File \"/home/francisco/Downloads/miniconda3/lib/python3.12/multiprocessing/connection.py\", line 133, in __del__\n",
      "Exception in thread QueueFeederThread:\n",
      "Traceback (most recent call last):\n",
      "  File \"/home/francisco/Downloads/miniconda3/lib/python3.12/multiprocessing/queues.py\", line 259, in _feed\n",
      "    reader_close()\n",
      "  File \"/home/francisco/Downloads/miniconda3/lib/python3.12/multiprocessing/connection.py\", line 178, in close\n",
      "    self._close()\n",
      "  File \"/home/francisco/Downloads/miniconda3/lib/python3.12/multiprocessing/connection.py\", line 377, in _close\n",
      "    self._close()\n",
      "  File \"/home/francisco/Downloads/miniconda3/lib/python3.12/multiprocessing/connection.py\", line 377, in _close\n",
      "    _close(self._handle)\n",
      "OSError: [Errno 9] Bad file descriptor\n",
      "\n",
      "During handling of the above exception, another exception occurred:\n",
      "\n",
      "Traceback (most recent call last):\n",
      "  File \"/home/francisco/Downloads/miniconda3/lib/python3.12/threading.py\", line 1075, in _bootstrap_inner\n",
      "    _close(self._handle)\n",
      "OSError: [Errno 9] Bad file descriptor\n",
      "    self.run()\n",
      "  File \"/home/francisco/Documents/Francisco/Faculdade/7_Semestre/processamento_lingua_natural/tp2/pos_tagging/env_py/lib/python3.12/site-packages/ipykernel/ipkernel.py\", line 766, in run_closure\n",
      "    _threading_Thread_run(self)\n",
      "  File \"/home/francisco/Downloads/miniconda3/lib/python3.12/threading.py\", line 1012, in run\n",
      "    self._target(*self._args, **self._kwargs)\n",
      "  File \"/home/francisco/Downloads/miniconda3/lib/python3.12/multiprocessing/queues.py\", line 291, in _feed\n",
      "    queue_sem.release()\n",
      "ValueError: semaphore or lock released too many times\n"
     ]
    }
   ],
   "source": [
    "# lendo dados de entrada novamente e separado melhor o arquivo\n",
    "with open('data/macmorpho-train.txt', 'r') as file:\n",
    "    # store file content in a list\n",
    "    lines = file.readlines()\n",
    "\n",
    "dataT = []\n",
    "# usando apenas metade dos dados para não sobrecarregar o kernel\n",
    "for line in lines[0:int(len(lines)*0.5)]:\n",
    "    words_tags = line.split()\n",
    "    for word_tag in words_tags:\n",
    "        word, tag = word_tag.split('_')\n",
    "        dataT.append((word, tag.strip()))\n"
   ]
  },
  {
   "cell_type": "code",
   "execution_count": 3,
   "metadata": {},
   "outputs": [
    {
     "data": {
      "text/plain": [
       "[('Jersei', 'N'),\n",
       " ('atinge', 'V'),\n",
       " ('média', 'N'),\n",
       " ('de', 'PREP'),\n",
       " ('Cr$', 'CUR')]"
      ]
     },
     "execution_count": 3,
     "metadata": {},
     "output_type": "execute_result"
    }
   ],
   "source": [
    "dataT[0:5]"
   ]
  },
  {
   "cell_type": "code",
   "execution_count": 4,
   "metadata": {},
   "outputs": [
    {
     "data": {
      "text/plain": [
       "{'ADJ',\n",
       " 'ADV',\n",
       " 'ADV-KS',\n",
       " 'ART',\n",
       " 'CUR',\n",
       " 'IN',\n",
       " 'KC',\n",
       " 'KS',\n",
       " 'N',\n",
       " 'NPROP',\n",
       " 'NUM',\n",
       " 'PCP',\n",
       " 'PDEN',\n",
       " 'PREP',\n",
       " 'PREP+ADV',\n",
       " 'PREP+ART',\n",
       " 'PREP+PRO-KS',\n",
       " 'PREP+PROADJ',\n",
       " 'PREP+PROPESS',\n",
       " 'PREP+PROSUB',\n",
       " 'PRO-KS',\n",
       " 'PROADJ',\n",
       " 'PROPESS',\n",
       " 'PROSUB',\n",
       " 'PU',\n",
       " 'V'}"
      ]
     },
     "execution_count": 4,
     "metadata": {},
     "output_type": "execute_result"
    }
   ],
   "source": [
    "# pegando todas as tags\n",
    "tags = set([tag for _, tag in dataT])\n",
    "tags"
   ]
  },
  {
   "cell_type": "code",
   "execution_count": 19,
   "metadata": {},
   "outputs": [
    {
     "name": "stderr",
     "output_type": "stream",
     "text": [
      "Device set to use cpu\n"
     ]
    }
   ],
   "source": [
    "# carregando o modelo\n",
    "pipe = pipeline(\"token-classification\", model=\"lisaterumi/postagger-portuguese\", tokenizer=\"lisaterumi/postagger-portuguese\", aggregation_strategy=\"simple\")"
   ]
  },
  {
   "cell_type": "code",
   "execution_count": 36,
   "metadata": {},
   "outputs": [
    {
     "name": "stderr",
     "output_type": "stream",
     "text": [
      "Processing words: 100%|██████████| 387877/387877 [1:34:09<00:00, 68.66it/s]\n"
     ]
    }
   ],
   "source": [
    "\n",
    "# raelizando predição das tags\n",
    "results = []\n",
    "\n",
    "for word, expected_tag in tqdm(dataT, desc=\"Processing words\"):\n",
    "    prediction = pipe(word)\n",
    "    \n",
    "    # pegando a tag prevista\n",
    "    predicted_tag = prediction[0]['entity_group']\n",
    "    \n",
    "    result_data = {\n",
    "        'word': word,\n",
    "        'expected_tag': expected_tag,\n",
    "        'predicted_tag': predicted_tag,\n",
    "        'correct': predicted_tag == expected_tag,\n",
    "    }\n",
    "    \n",
    "    # Append result to the results list\n",
    "    results.append(result_data)\n",
    "        \n",
    "# salvando resultados em um arquivo json\n",
    "with open('results/results_postagger-portuguese.json', 'w') as file:\n",
    "    json.dump(results, file, indent=4)\n",
    "        "
   ]
  },
  {
   "cell_type": "code",
   "execution_count": null,
   "metadata": {},
   "outputs": [],
   "source": [
    "# abrindo arquivo para analise dos resultados -> acuracia geral\n",
    "\n",
    "with open('results/results_postagger-portuguese.json', 'r') as file:\n",
    "    results = json.load(file)"
   ]
  },
  {
   "cell_type": "code",
   "execution_count": 4,
   "metadata": {},
   "outputs": [
    {
     "name": "stdout",
     "output_type": "stream",
     "text": [
      "Accuracy: 0.74\n"
     ]
    }
   ],
   "source": [
    "\n",
    "correct_predictions = 0\n",
    "\n",
    "\n",
    "total_words = len(results)\n",
    "for result in results:\n",
    "    if result['correct']:\n",
    "        correct_predictions += 1\n",
    "\n",
    "accuracy = correct_predictions / total_words\n",
    "print(f'Acurácia geral: {accuracy:.2f}')"
   ]
  },
  {
   "cell_type": "code",
   "execution_count": 20,
   "metadata": {},
   "outputs": [
    {
     "name": "stdout",
     "output_type": "stream",
     "text": [
      "TAG: PU - ACURÁCIA: 1.00\n",
      "TAG: PREP+PROPESS - ACURÁCIA: 0.98\n",
      "TAG: N - ACURÁCIA: 0.97\n",
      "TAG: KC - ACURÁCIA: 0.96\n",
      "TAG: ADV - ACURÁCIA: 0.92\n",
      "TAG: V - ACURÁCIA: 0.92\n",
      "TAG: PREP+ADV - ACURÁCIA: 0.89\n",
      "TAG: PROSUB - ACURÁCIA: 0.88\n",
      "TAG: PREP - ACURÁCIA: 0.85\n",
      "TAG: PCP - ACURÁCIA: 0.82\n",
      "TAG: PROPESS - ACURÁCIA: 0.79\n",
      "TAG: PREP+ART - ACURÁCIA: 0.75\n",
      "TAG: PDEN - ACURÁCIA: 0.56\n",
      "TAG: ADJ - ACURÁCIA: 0.50\n",
      "TAG: NPROP - ACURÁCIA: 0.49\n",
      "TAG: PREP+PROADJ - ACURÁCIA: 0.47\n",
      "TAG: PREP+PROSUB - ACURÁCIA: 0.41\n",
      "TAG: IN - ACURÁCIA: 0.40\n",
      "TAG: NUM - ACURÁCIA: 0.12\n",
      "TAG: ART - ACURÁCIA: 0.08\n",
      "TAG: PROADJ - ACURÁCIA: 0.05\n",
      "TAG: KS - ACURÁCIA: 0.00\n",
      "TAG: CUR - ACURÁCIA: 0.00\n",
      "TAG: PRO-KS - ACURÁCIA: 0.00\n",
      "TAG: ADV-KS - ACURÁCIA: 0.00\n",
      "TAG: PREP+PRO-KS - ACURÁCIA: 0.00\n"
     ]
    }
   ],
   "source": [
    "# calculando novamente os resultados de acurácia para cada tag\n",
    "correct_tags = {}\n",
    "total_tags = {}\n",
    "\n",
    "for result in results:\n",
    "    if result['expected_tag'] not in total_tags:\n",
    "        total_tags[result['expected_tag']] = 1\n",
    "    else:\n",
    "        total_tags[result['expected_tag']] += 1\n",
    "    \n",
    "    if result['correct']:\n",
    "        if result['expected_tag'] not in correct_tags:\n",
    "            correct_tags[result['expected_tag']] = 1\n",
    "        else:\n",
    "            correct_tags[result['expected_tag']] += 1\n",
    "\n",
    "accuracy_tags = {}\n",
    "for tag in total_tags:\n",
    "    try:\n",
    "        accuracy_tags[tag] = correct_tags[tag] / total_tags[tag]\n",
    "    except KeyError:\n",
    "        accuracy_tags[tag] = 0\n",
    "\n",
    "# print in descending order\n",
    "for tag, accuracy in sorted(accuracy_tags.items(), key=lambda x: x[1], reverse=True):\n",
    "    print(f'TAG: {tag} - ACURÁCIA: {accuracy:.2f}')"
   ]
  },
  {
   "cell_type": "code",
   "execution_count": 1,
   "metadata": {},
   "outputs": [],
   "source": [
    "import os\n",
    "\n",
    "# Função para carregar os dados e separar tokens e tags\n",
    "def load_macmorpho_data(filepath):\n",
    "    sentences, labels = [], []\n",
    "    with open(filepath, \"r\", encoding=\"utf-8\") as f:\n",
    "        for line in f:\n",
    "            line = line.strip()\n",
    "            if not line:\n",
    "                continue\n",
    "            tokens, tags = [], []\n",
    "            for pair in line.split():\n",
    "                token, tag = pair.rsplit(\"_\", maxsplit=1)  # Separar o token e a tag\n",
    "                tokens.append(token)\n",
    "                tags.append(tag)\n",
    "            sentences.append(tokens)\n",
    "            labels.append(tags)\n",
    "    return sentences, labels"
   ]
  },
  {
   "cell_type": "code",
   "execution_count": 3,
   "metadata": {},
   "outputs": [],
   "source": [
    "train_sentences, train_labels = load_macmorpho_data(\"./data/macmorpho-train.txt\")\n",
    "dev_sentences, dev_labels = load_macmorpho_data(\"./data/macmorpho-dev.txt\")\n",
    "test_sentences, test_labels = load_macmorpho_data(\"./data/macmorpho-test.txt\")"
   ]
  },
  {
   "cell_type": "code",
   "execution_count": 4,
   "metadata": {},
   "outputs": [],
   "source": [
    "all_labels = set(tag for tags in train_labels for tag in tags)\n",
    "tag2id = {tag: idx for idx, tag in enumerate(sorted(all_labels))}\n",
    "id2tag = {idx: tag for tag, idx in tag2id.items()}"
   ]
  },
  {
   "cell_type": "code",
   "execution_count": 5,
   "metadata": {},
   "outputs": [
    {
     "name": "stderr",
     "output_type": "stream",
     "text": [
      "/home/francisco/Documents/Francisco/Faculdade/7_Semestre/processamento_lingua_natural/tp2/pos_tagging/env_py/lib/python3.12/site-packages/tqdm/auto.py:21: TqdmWarning: IProgress not found. Please update jupyter and ipywidgets. See https://ipywidgets.readthedocs.io/en/stable/user_install.html\n",
      "  from .autonotebook import tqdm as notebook_tqdm\n"
     ]
    }
   ],
   "source": [
    "from transformers import AutoTokenizer\n",
    "\n",
    "# Carregar o tokenizer\n",
    "tokenizer = AutoTokenizer.from_pretrained(\"neuralmind/bert-base-portuguese-cased\")\n",
    "\n",
    "# Função para tokenizar as sentenças e alinhar os rótulos\n",
    "def tokenize_and_align_labels(sentences, labels, tokenizer):\n",
    "    tokenized_inputs = tokenizer(\n",
    "        sentences,\n",
    "        is_split_into_words=True,\n",
    "        truncation=True,\n",
    "        padding=\"max_length\",\n",
    "        max_length=128,\n",
    "        return_tensors=\"pt\"\n",
    "    )\n",
    "    aligned_labels = []\n",
    "    for i, label in enumerate(labels):\n",
    "        word_ids = tokenized_inputs.word_ids(batch_index=i)  # Mapear tokens originais para IDs de palavras\n",
    "        label_ids = []\n",
    "        for word_idx in word_ids:\n",
    "            if word_idx is None:\n",
    "                label_ids.append(-100)  # Ignorar tokens especiais\n",
    "            else:\n",
    "                label_ids.append(tag2id[label[word_idx]])  # Mapear rótulo\n",
    "        aligned_labels.append(label_ids)\n",
    "    tokenized_inputs[\"labels\"] = aligned_labels\n",
    "    return tokenized_inputs\n",
    "\n",
    "# Tokenizar e alinhar rótulos para os datasets\n",
    "train_data = tokenize_and_align_labels(train_sentences, train_labels, tokenizer)\n",
    "dev_data = tokenize_and_align_labels(dev_sentences, dev_labels, tokenizer)\n",
    "test_data = tokenize_and_align_labels(test_sentences, test_labels, tokenizer)\n"
   ]
  },
  {
   "cell_type": "code",
   "execution_count": 6,
   "metadata": {},
   "outputs": [
    {
     "name": "stderr",
     "output_type": "stream",
     "text": [
      "Some weights of BertForTokenClassification were not initialized from the model checkpoint at neuralmind/bert-base-portuguese-cased and are newly initialized: ['classifier.bias', 'classifier.weight']\n",
      "You should probably TRAIN this model on a down-stream task to be able to use it for predictions and inference.\n"
     ]
    }
   ],
   "source": [
    "from transformers import AutoModelForTokenClassification\n",
    "\n",
    "# Carregar o modelo com uma cabeça de classificação de tokens\n",
    "model = AutoModelForTokenClassification.from_pretrained(\n",
    "    \"neuralmind/bert-base-portuguese-cased\",\n",
    "    num_labels=len(tag2id)\n",
    ")\n"
   ]
  },
  {
   "cell_type": "code",
   "execution_count": 7,
   "metadata": {},
   "outputs": [],
   "source": [
    "# Congelar todas as camadas do encoder, exceto as últimas\n",
    "for name, param in model.bert.named_parameters():\n",
    "    if not name.startswith(\"encoder.layer.11\"):  # Ajustar para treinar somente a última camada\n",
    "        param.requires_grad = False\n"
   ]
  },
  {
   "cell_type": "code",
   "execution_count": 10,
   "metadata": {},
   "outputs": [
    {
     "name": "stderr",
     "output_type": "stream",
     "text": [
      "/tmp/ipykernel_43751/3579363817.py:23: FutureWarning: `tokenizer` is deprecated and will be removed in version 5.0.0 for `Trainer.__init__`. Use `processing_class` instead.\n",
      "  trainer = Trainer(\n"
     ]
    }
   ],
   "source": [
    "from transformers import TrainingArguments, Trainer\n",
    "from datasets import Dataset\n",
    "\n",
    "# Converter os dados para o formato Hugging Face Dataset\n",
    "train_dataset = Dataset.from_dict(train_data)\n",
    "dev_dataset = Dataset.from_dict(dev_data)\n",
    "\n",
    "# Configuração dos argumentos de treinamento\n",
    "training_args = TrainingArguments(\n",
    "    output_dir=\"./results\",\n",
    "    evaluation_strategy=\"epoch\",\n",
    "    learning_rate=3e-5,\n",
    "    per_device_train_batch_size=8,\n",
    "    per_device_eval_batch_size=8,\n",
    "    num_train_epochs=3,\n",
    "    weight_decay=0.01,\n",
    "    logging_dir=\"./logs\",\n",
    "    logging_strategy=\"epoch\",\n",
    "    dataloader_num_workers=4,  # Increase this based on your CPU core count\n",
    ")\n",
    "\n",
    "# Configurar o Trainer\n",
    "trainer = Trainer(\n",
    "    model=model,\n",
    "    args=training_args,\n",
    "    train_dataset=train_dataset,\n",
    "    eval_dataset=dev_dataset,\n",
    "    tokenizer=tokenizer,\n",
    ")\n"
   ]
  },
  {
   "cell_type": "code",
   "execution_count": 11,
   "metadata": {},
   "outputs": [
    {
     "name": "stderr",
     "output_type": "stream",
     "text": [
      "huggingface/tokenizers: The current process just got forked, after parallelism has already been used. Disabling parallelism to avoid deadlocks...\n",
      "To disable this warning, you can either:\n",
      "\t- Avoid using `tokenizers` before the fork if possible\n",
      "\t- Explicitly set the environment variable TOKENIZERS_PARALLELISM=(true | false)\n",
      "huggingface/tokenizers: The current process just got forked, after parallelism has already been used. Disabling parallelism to avoid deadlocks...\n",
      "To disable this warning, you can either:\n",
      "\t- Avoid using `tokenizers` before the fork if possible\n",
      "\t- Explicitly set the environment variable TOKENIZERS_PARALLELISM=(true | false)\n",
      "huggingface/tokenizers: The current process just got forked, after parallelism has already been used. Disabling parallelism to avoid deadlocks...\n",
      "To disable this warning, you can either:\n",
      "\t- Avoid using `tokenizers` before the fork if possible\n",
      "\t- Explicitly set the environment variable TOKENIZERS_PARALLELISM=(true | false)\n",
      "huggingface/tokenizers: The current process just got forked, after parallelism has already been used. Disabling parallelism to avoid deadlocks...\n",
      "To disable this warning, you can either:\n",
      "\t- Avoid using `tokenizers` before the fork if possible\n",
      "\t- Explicitly set the environment variable TOKENIZERS_PARALLELISM=(true | false)\n"
     ]
    },
    {
     "data": {
      "text/html": [
       "\n",
       "    <div>\n",
       "      \n",
       "      <progress value='14232' max='14232' style='width:300px; height:20px; vertical-align: middle;'></progress>\n",
       "      [14232/14232 2:43:48, Epoch 3/3]\n",
       "    </div>\n",
       "    <table border=\"1\" class=\"dataframe\">\n",
       "  <thead>\n",
       " <tr style=\"text-align: left;\">\n",
       "      <th>Epoch</th>\n",
       "      <th>Training Loss</th>\n",
       "      <th>Validation Loss</th>\n",
       "    </tr>\n",
       "  </thead>\n",
       "  <tbody>\n",
       "    <tr>\n",
       "      <td>1</td>\n",
       "      <td>0.172300</td>\n",
       "      <td>0.101586</td>\n",
       "    </tr>\n",
       "    <tr>\n",
       "      <td>2</td>\n",
       "      <td>0.101100</td>\n",
       "      <td>0.089282</td>\n",
       "    </tr>\n",
       "    <tr>\n",
       "      <td>3</td>\n",
       "      <td>0.090000</td>\n",
       "      <td>0.086317</td>\n",
       "    </tr>\n",
       "  </tbody>\n",
       "</table><p>"
      ],
      "text/plain": [
       "<IPython.core.display.HTML object>"
      ]
     },
     "metadata": {},
     "output_type": "display_data"
    },
    {
     "name": "stderr",
     "output_type": "stream",
     "text": [
      "To disable this warning, you can either:\n",
      "\t- Avoid using `tokenizers` before the fork if possible\n",
      "\t- Explicitly set the environment variable TOKENIZERS_PARALLELISM=(true | false)\n",
      "huggingface/tokenizers: The current process just got forked, after parallelism has already been used. Disabling parallelism to avoid deadlocks...\n",
      "To disable this warning, you can either:\n",
      "\t- Avoid using `tokenizers` before the fork if possible\n",
      "\t- Explicitly set the environment variable TOKENIZERS_PARALLELISM=(true | false)\n",
      "huggingface/tokenizers: The current process just got forked, after parallelism has already been used. Disabling parallelism to avoid deadlocks...\n",
      "To disable this warning, you can either:\n",
      "\t- Avoid using `tokenizers` before the fork if possible\n",
      "\t- Explicitly set the environment variable TOKENIZERS_PARALLELISM=(true | false)\n",
      "huggingface/tokenizers: The current process just got forked, after parallelism has already been used. Disabling parallelism to avoid deadlocks...\n",
      "To disable this warning, you can either:\n",
      "\t- Avoid using `tokenizers` before the fork if possible\n",
      "\t- Explicitly set the environment variable TOKENIZERS_PARALLELISM=(true | false)\n",
      "huggingface/tokenizers: The current process just got forked, after parallelism has already been used. Disabling parallelism to avoid deadlocks...\n",
      "To disable this warning, you can either:\n",
      "\t- Avoid using `tokenizers` before the fork if possible\n",
      "\t- Explicitly set the environment variable TOKENIZERS_PARALLELISM=(true | false)\n",
      "huggingface/tokenizers: The current process just got forked, after parallelism has already been used. Disabling parallelism to avoid deadlocks...\n",
      "To disable this warning, you can either:\n",
      "\t- Avoid using `tokenizers` before the fork if possible\n",
      "\t- Explicitly set the environment variable TOKENIZERS_PARALLELISM=(true | false)\n",
      "huggingface/tokenizers: The current process just got forked, after parallelism has already been used. Disabling parallelism to avoid deadlocks...\n",
      "To disable this warning, you can either:\n",
      "\t- Avoid using `tokenizers` before the fork if possible\n",
      "\t- Explicitly set the environment variable TOKENIZERS_PARALLELISM=(true | false)\n",
      "huggingface/tokenizers: The current process just got forked, after parallelism has already been used. Disabling parallelism to avoid deadlocks...\n",
      "To disable this warning, you can either:\n",
      "\t- Avoid using `tokenizers` before the fork if possible\n",
      "\t- Explicitly set the environment variable TOKENIZERS_PARALLELISM=(true | false)\n",
      "huggingface/tokenizers: The current process just got forked, after parallelism has already been used. Disabling parallelism to avoid deadlocks...\n",
      "To disable this warning, you can either:\n",
      "\t- Avoid using `tokenizers` before the fork if possible\n",
      "\t- Explicitly set the environment variable TOKENIZERS_PARALLELISM=(true | false)\n",
      "huggingface/tokenizers: The current process just got forked, after parallelism has already been used. Disabling parallelism to avoid deadlocks...\n",
      "To disable this warning, you can either:\n",
      "\t- Avoid using `tokenizers` before the fork if possible\n",
      "\t- Explicitly set the environment variable TOKENIZERS_PARALLELISM=(true | false)\n",
      "huggingface/tokenizers: The current process just got forked, after parallelism has already been used. Disabling parallelism to avoid deadlocks...\n",
      "To disable this warning, you can either:\n",
      "\t- Avoid using `tokenizers` before the fork if possible\n",
      "\t- Explicitly set the environment variable TOKENIZERS_PARALLELISM=(true | false)\n",
      "huggingface/tokenizers: The current process just got forked, after parallelism has already been used. Disabling parallelism to avoid deadlocks...\n",
      "To disable this warning, you can either:\n",
      "\t- Avoid using `tokenizers` before the fork if possible\n",
      "\t- Explicitly set the environment variable TOKENIZERS_PARALLELISM=(true | false)\n",
      "huggingface/tokenizers: The current process just got forked, after parallelism has already been used. Disabling parallelism to avoid deadlocks...\n",
      "To disable this warning, you can either:\n",
      "\t- Avoid using `tokenizers` before the fork if possible\n",
      "\t- Explicitly set the environment variable TOKENIZERS_PARALLELISM=(true | false)\n",
      "huggingface/tokenizers: The current process just got forked, after parallelism has already been used. Disabling parallelism to avoid deadlocks...\n",
      "To disable this warning, you can either:\n",
      "\t- Avoid using `tokenizers` before the fork if possible\n",
      "\t- Explicitly set the environment variable TOKENIZERS_PARALLELISM=(true | false)\n",
      "huggingface/tokenizers: The current process just got forked, after parallelism has already been used. Disabling parallelism to avoid deadlocks...\n",
      "To disable this warning, you can either:\n",
      "\t- Avoid using `tokenizers` before the fork if possible\n",
      "\t- Explicitly set the environment variable TOKENIZERS_PARALLELISM=(true | false)\n",
      "huggingface/tokenizers: The current process just got forked, after parallelism has already been used. Disabling parallelism to avoid deadlocks...\n",
      "To disable this warning, you can either:\n",
      "\t- Avoid using `tokenizers` before the fork if possible\n",
      "\t- Explicitly set the environment variable TOKENIZERS_PARALLELISM=(true | false)\n",
      "huggingface/tokenizers: The current process just got forked, after parallelism has already been used. Disabling parallelism to avoid deadlocks...\n",
      "To disable this warning, you can either:\n",
      "\t- Avoid using `tokenizers` before the fork if possible\n",
      "\t- Explicitly set the environment variable TOKENIZERS_PARALLELISM=(true | false)\n",
      "huggingface/tokenizers: The current process just got forked, after parallelism has already been used. Disabling parallelism to avoid deadlocks...\n",
      "To disable this warning, you can either:\n",
      "\t- Avoid using `tokenizers` before the fork if possible\n",
      "\t- Explicitly set the environment variable TOKENIZERS_PARALLELISM=(true | false)\n",
      "huggingface/tokenizers: The current process just got forked, after parallelism has already been used. Disabling parallelism to avoid deadlocks...\n",
      "To disable this warning, you can either:\n",
      "\t- Avoid using `tokenizers` before the fork if possible\n",
      "\t- Explicitly set the environment variable TOKENIZERS_PARALLELISM=(true | false)\n",
      "huggingface/tokenizers: The current process just got forked, after parallelism has already been used. Disabling parallelism to avoid deadlocks...\n",
      "To disable this warning, you can either:\n",
      "\t- Avoid using `tokenizers` before the fork if possible\n",
      "\t- Explicitly set the environment variable TOKENIZERS_PARALLELISM=(true | false)\n",
      "huggingface/tokenizers: The current process just got forked, after parallelism has already been used. Disabling parallelism to avoid deadlocks...\n",
      "To disable this warning, you can either:\n",
      "\t- Avoid using `tokenizers` before the fork if possible\n",
      "\t- Explicitly set the environment variable TOKENIZERS_PARALLELISM=(true | false)\n"
     ]
    },
    {
     "data": {
      "text/plain": [
       "TrainOutput(global_step=14232, training_loss=0.12114190653242912, metrics={'train_runtime': 9829.4963, 'train_samples_per_second': 11.582, 'train_steps_per_second': 1.448, 'total_flos': 7438380641998848.0, 'train_loss': 0.12114190653242912, 'epoch': 3.0})"
      ]
     },
     "execution_count": 11,
     "metadata": {},
     "output_type": "execute_result"
    }
   ],
   "source": [
    "trainer.train()\n"
   ]
  },
  {
   "cell_type": "code",
   "execution_count": 12,
   "metadata": {},
   "outputs": [],
   "source": [
    "# salvar o novo modelo que foi treinado agora\n",
    "save_directory = \"./trained_model\"\n",
    "\n",
    "trainer.save_model(save_directory)\n"
   ]
  },
  {
   "cell_type": "code",
   "execution_count": 24,
   "metadata": {},
   "outputs": [
    {
     "name": "stderr",
     "output_type": "stream",
     "text": [
      "Device set to use cpu\n",
      "/home/francisco/Documents/Francisco/Faculdade/7_Semestre/processamento_lingua_natural/tp2/pos_tagging/env_py/lib/python3.12/site-packages/transformers/pipelines/token_classification.py:170: UserWarning: `grouped_entities` is deprecated and will be removed in version v5.0.0, defaulted to `aggregation_strategy=\"AggregationStrategy.SIMPLE\"` instead.\n",
      "  warnings.warn(\n",
      "Processing words:   0%|          | 0/387877 [00:00<?, ?it/s]Asking to truncate to max_length but no maximum length is provided and the model has no predefined maximum length. Default to no truncation.\n",
      "Processing words:   0%|          | 9/387877 [00:00<2:09:37, 49.87it/s]\n"
     ]
    }
   ],
   "source": [
    "# Load the fine-tuned model and tokenizer\n",
    "model_path = \"./trained_model\"  # Adjust based on your saved model path\n",
    "tokenizer = AutoTokenizer.from_pretrained(model_path)\n",
    "model = AutoModelForTokenClassification.from_pretrained(model_path)\n",
    "\n",
    "# Initialize the token classification pipeline\n",
    "pipe = pipeline(\"token-classification\", model=model, tokenizer=tokenizer, grouped_entities=True)\n",
    "\n",
    "# Assuming dataT contains a list of tuples [(word, expected_tag), ...]\n",
    "# If your dataset isn't in this format, preprocess it accordingly\n",
    "\n",
    "# Initialize the results list\n",
    "results = []\n",
    "\n",
    "# Process each word in the dataset\n",
    "for word, expected_tag in tqdm(dataT, desc=\"Processing words\"):\n",
    "    # Make prediction using the pipeline\n",
    "    prediction = pipe(word)\n",
    "    \n",
    "    # Get the predicted tag (entity_group gives the label name)\n",
    "    predicted_tag = prediction[0]['entity_group'] if prediction else None\n",
    "    \n",
    "    # Prepare result data\n",
    "    result_data = {\n",
    "        'word': word,\n",
    "        'expected_tag': expected_tag,\n",
    "        'predicted_tag': predicted_tag,\n",
    "        'correct': predicted_tag == expected_tag,\n",
    "    }\n",
    "    \n",
    "    # Append result to the results list\n",
    "    results.append(result_data)\n",
    "    \n",
    "    if len(results) == 10:\n",
    "        break\n",
    "\n",
    "# Optionally, save results to a file\n",
    "import json\n",
    "with open(\"./results/results_bert_trained.json\", \"w\", encoding=\"utf-8\") as f:\n",
    "    json.dump(results, f, indent=4, ensure_ascii=False)"
   ]
  }
 ],
 "metadata": {
  "kernelspec": {
   "display_name": "env_py",
   "language": "python",
   "name": "python3"
  },
  "language_info": {
   "codemirror_mode": {
    "name": "ipython",
    "version": 3
   },
   "file_extension": ".py",
   "mimetype": "text/x-python",
   "name": "python",
   "nbconvert_exporter": "python",
   "pygments_lexer": "ipython3",
   "version": "3.12.8"
  }
 },
 "nbformat": 4,
 "nbformat_minor": 2
}
